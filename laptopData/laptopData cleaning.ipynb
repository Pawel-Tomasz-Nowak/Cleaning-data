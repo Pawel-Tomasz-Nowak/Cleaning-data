{
 "cells": [
  {
   "cell_type": "markdown",
   "metadata": {},
   "source": [
    "### Read the dataframe by brute-force and check the reformating column names."
   ]
  },
  {
   "cell_type": "code",
   "execution_count": 453,
   "metadata": {},
   "outputs": [],
   "source": [
    "import polars as pl\n",
    "import re\n",
    "import numpy as np\n",
    "\n",
    "\n",
    "def reformat_column_names(col_name: str) -> str:\n",
    "    \"\"\"A function for reformating the names of the columns. If some column' name is made up of words, seperate these words by _.\"\"\"\n",
    "\n",
    "    reformatted_name = re.sub(r\"(?<![A-Z])(?<!^)([A-Z])\", repl = r\"_\\1\", string = col_name)\n",
    "\n",
    "\n",
    "\n",
    "    return reformatted_name\n",
    "\n",
    "laptop_data : pl.DataFrame = pl.read_csv(source = \"laptopData.csv\", # Read the data by brute force.\n",
    "                                         ignore_errors = True,\n",
    "                                         null_values = [\"?\"])\n",
    "\n",
    "\n",
    "data_cols: list[str] = laptop_data.columns\n",
    "\n",
    "data_cols[data_cols.index(\"Unnamed: 0\")] = \"ID\"\n",
    "\n",
    "laptop_data.columns = np.vectorize(reformat_column_names)(data_cols)\n",
    "\n",
    "data_cols: list[str] = laptop_data.columns"
   ]
  },
  {
   "cell_type": "markdown",
   "metadata": {},
   "source": [
    "### Dealing with missing values."
   ]
  },
  {
   "cell_type": "code",
   "execution_count": 454,
   "metadata": {},
   "outputs": [
    {
     "name": "stdout",
     "output_type": "stream",
     "text": [
      "['Inches', 'Memory', 'Weight']\n",
      "[Float64, String, Float64]\n"
     ]
    }
   ],
   "source": [
    "def null_values_count(df:pl.DataFrame) -> list[str]:\n",
    "    '''For each column of the dataframe, tell me the number of missing values.\n",
    "    Return the list of columns with missing values.\n",
    "    '''\n",
    "\n",
    "    null_columns:list[str] = []\n",
    "\n",
    "    for col in df.columns: # #Iterate over the columns\n",
    "        n_nulls: int = df[col].null_count()\n",
    "\n",
    "        if n_nulls > 0:\n",
    "            null_columns.append(col)\n",
    "\n",
    "\n",
    "    return null_columns\n",
    "\n",
    "\n",
    "\n",
    "\n",
    "\n",
    "def drop_missing_values(df:pl.DataFrame) -> pl.DataFrame:\n",
    "    \"\"\"Drop the missing rows (that is - rows with all columns missing).\n",
    "    Moreover, for each column find the number of missing values.\n",
    "    \"\"\"\n",
    "\n",
    "    df_dropped = df.filter(~pl.all_horizontal(pl.all().is_null()))\n",
    "\n",
    "    null_columns = null_values_count(df_dropped)\n",
    "    \n",
    "  \n",
    "    return df_dropped, null_columns\n",
    "  \n",
    "    \n",
    "\n",
    "laptop_data, null_columns = drop_missing_values(laptop_data)\n",
    "dtypes: list[ pl.DataType] = [pl.Float64(), pl.String(), pl.Float64()]\n",
    "\n",
    "print(null_columns)\n",
    "print(dtypes)"
   ]
  },
  {
   "cell_type": "markdown",
   "metadata": {},
   "source": [
    "### Dealing with rows having less missing values."
   ]
  },
  {
   "cell_type": "code",
   "execution_count": 455,
   "metadata": {},
   "outputs": [],
   "source": [
    "\n",
    "def impute_missing_values(df:pl.DataFrame, null_cols: list[str], dtypes:list[pl.DataType]) -> pl.DataFrame:\n",
    "    for id, col_name in enumerate(null_cols):\n",
    "        col:pl.Series = laptop_data[col_name]\n",
    "\n",
    "        if  not col.dtype.is_numeric():\n",
    "            imputed_col: pl.Series = laptop_data[col_name].str.replace(r\"kg\", \"\")\n",
    "          \n",
    "            if dtypes[id] == pl.String():\n",
    "                imputed_col: pl.Series = imputed_col.fill_null(strategy = \"backward\")\n",
    "            else:\n",
    "                imputed_col: pl.Series = imputed_col.cast(dtypes[id]).fill_null(strategy = \"mean\")\n",
    "\n",
    "        else:\n",
    "            imputed_col: pl.Series = laptop_data[col_name].cast(dtypes[id]).fill_null(strategy = \"mean\")\n",
    "\n",
    "        df = df.with_columns(imputed_col)\n",
    "\n",
    "    return df\n",
    "\n",
    "            \n",
    "\n",
    "laptop_data:pl.DataFrame = impute_missing_values(laptop_data, null_columns, dtypes)"
   ]
  },
  {
   "cell_type": "markdown",
   "metadata": {},
   "source": [
    "### Replacing the row index column with a new identification column."
   ]
  },
  {
   "cell_type": "code",
   "execution_count": 456,
   "metadata": {},
   "outputs": [],
   "source": [
    "laptop_data = laptop_data.drop(\"ID\").with_row_index(name = \"ID\")"
   ]
  }
 ],
 "metadata": {
  "kernelspec": {
   "display_name": "Python 3",
   "language": "python",
   "name": "python3"
  },
  "language_info": {
   "codemirror_mode": {
    "name": "ipython",
    "version": 3
   },
   "file_extension": ".py",
   "mimetype": "text/x-python",
   "name": "python",
   "nbconvert_exporter": "python",
   "pygments_lexer": "ipython3",
   "version": "3.12.0"
  }
 },
 "nbformat": 4,
 "nbformat_minor": 2
}
