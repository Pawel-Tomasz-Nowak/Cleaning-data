{
 "cells": [
  {
   "cell_type": "markdown",
   "metadata": {},
   "source": [
    "### Read the dataframe by brute-force and check the reformating column names."
   ]
  },
  {
   "cell_type": "code",
   "execution_count": 210,
   "metadata": {},
   "outputs": [],
   "source": [
    "import polars as pl\n",
    "import re\n",
    "import numpy as np\n",
    "\n",
    "\n",
    "def reformat_column_names(col_name: str) -> str:\n",
    "    \"\"\"A function for reformating the names of the columns. If some column' name is made up of words, seperate these words by _.\"\"\"\n",
    "\n",
    "    reformatted_name = re.sub(r\"(?<![A-Z])(?<!^)([A-Z])\", repl = r\"_\\1\", string = col_name)\n",
    "\n",
    "\n",
    "\n",
    "    return reformatted_name\n",
    "\n",
    "laptop_data : pl.DataFrame = pl.read_csv(source = \"laptopData.csv\", # Read the data by brute force.\n",
    "                                         ignore_errors = True)\n",
    "\n",
    "\n",
    "stare = laptop_data.columns\n",
    "data_cols: list[str] = laptop_data.columns\n",
    "\n",
    "data_cols[data_cols.index(\"Unnamed: 0\")] = \"OrderID\"\n",
    "\n",
    "laptop_data.columns = np.vectorize(reformat_column_names)(data_cols)\n",
    "\n",
    "data_cols: list[str] = laptop_data.columns"
   ]
  },
  {
   "cell_type": "markdown",
   "metadata": {},
   "source": [
    "### Dealing with missing values."
   ]
  },
  {
   "cell_type": "code",
   "execution_count": null,
   "metadata": {},
   "outputs": [
    {
     "name": "stdout",
     "output_type": "stream",
     "text": [
      "Columns with missing values before dropping null values:\n",
      "[('Order_ID', 30), ('Company', 30), ('Type_Name', 30), ('Inches', 31), ('Screen_Resolution', 30), ('Cpu', 30), ('Ram', 30), ('Memory', 30), ('Gpu', 30), ('Op_Sys', 30), ('Weight', 30), ('Price', 30)]\n",
      "\n",
      "\n"
     ]
    }
   ],
   "source": [
    "def null_values_count(df:pl.DataFrame) -> list[str]:\n",
    "    '''For each column of the dataframe, tell me the number of missing values.\n",
    "    Return the list of columns with missing values.\n",
    "    '''\n",
    "\n",
    "    null_columns:list[str] = []\n",
    "\n",
    "    for col in df.columns: # #Iterate over the columns\n",
    "        n_nulls: int = df[col].null_count()\n",
    "\n",
    "        if n_nulls > 0:\n",
    "            null_columns.append((col, n_nulls))\n",
    "\n",
    "\n",
    "    return null_columns\n",
    "\n",
    "\n",
    "def null_value_displayer(df:pl.DataFrame, when: str = \"before\") -> None:\n",
    "    null_columns = null_values_count(df)\n",
    "\n",
    "    if null_columns: # If there are any null-valued column, display all of them.\n",
    "        print(f\"Columns with missing values {when} dropping null values:\")\n",
    "        print(null_columns)\n",
    "        print('\\n')\n",
    "\n",
    "\n",
    "\n",
    "def drop_missing_values(df:pl.DataFrame) -> pl.DataFrame:\n",
    "    \"\"\"Drop the missing rows (that is - rows with all columns missing).\n",
    "    Moreover, for each column find the number of missing values.\n",
    "    \"\"\"\n",
    "\n",
    "    null_value_displayer(df)\n",
    "\n",
    "    df_dropped = df.drop_nulls()\n",
    "    \n",
    "    null_value_displayer(df_dropped, \"after\")\n",
    "\n",
    "    return df_dropped\n",
    "\n",
    "  \n",
    "    \n",
    "\n",
    "laptop_data = drop_missing_values(laptop_data)\n"
   ]
  }
 ],
 "metadata": {
  "kernelspec": {
   "display_name": "Python 3",
   "language": "python",
   "name": "python3"
  },
  "language_info": {
   "codemirror_mode": {
    "name": "ipython",
    "version": 3
   },
   "file_extension": ".py",
   "mimetype": "text/x-python",
   "name": "python",
   "nbconvert_exporter": "python",
   "pygments_lexer": "ipython3",
   "version": "3.12.0"
  }
 },
 "nbformat": 4,
 "nbformat_minor": 2
}
