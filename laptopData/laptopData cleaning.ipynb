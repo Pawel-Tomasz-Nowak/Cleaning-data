{
 "cells": [
  {
   "cell_type": "markdown",
   "metadata": {},
   "source": [
    "### Read the dataframe by brute-force and check the reformating column names."
   ]
  },
  {
   "cell_type": "code",
   "execution_count": 9,
   "metadata": {},
   "outputs": [],
   "source": [
    "import polars as pl\n",
    "import re\n",
    "import numpy as np\n",
    "\n",
    "\n",
    "def reformat_column_names(col_name: str) -> str:\n",
    "    \"\"\"A function for reformating the names of the columns. If some column' name is made up of words, seperate these words by _.\"\"\"\n",
    "\n",
    "    reformatted_name = re.sub(r\"(?<![A-Z])(?<!^)([A-Z])\", repl = r\"_\\1\", string = col_name)\n",
    "\n",
    "\n",
    "\n",
    "    return reformatted_name\n",
    "\n",
    "laptop_data : pl.DataFrame = pl.read_csv(source = \"laptopData.csv\", # Read the data by brute force.\n",
    "                                         ignore_errors = True)\n",
    "\n",
    "\n",
    "\n",
    "data_cols: list[str] = laptop_data.columns\n",
    "\n",
    "data_cols[data_cols.index(\"Unnamed: 0\")] = \"OrderID\"\n",
    "\n",
    "laptop_data.columns = np.vectorize(reformat_column_names)(data_cols)\n",
    "\n",
    "data_cols: list[str] = laptop_data.columns"
   ]
  },
  {
   "cell_type": "code",
   "execution_count": 17,
   "metadata": {},
   "outputs": [
    {
     "data": {
      "text/html": [
       "<div><style>\n",
       ".dataframe > thead > tr,\n",
       ".dataframe > tbody > tr {\n",
       "  text-align: right;\n",
       "  white-space: pre-wrap;\n",
       "}\n",
       "</style>\n",
       "<small>shape: (1_303, 12)</small><table border=\"1\" class=\"dataframe\"><thead><tr><th>Order_ID</th><th>Company</th><th>Type_Name</th><th>Inches</th><th>Screen_Resolution</th><th>Cpu</th><th>Ram</th><th>Memory</th><th>Gpu</th><th>Op_Sys</th><th>Weight</th><th>Price</th></tr><tr><td>i64</td><td>str</td><td>str</td><td>f64</td><td>str</td><td>str</td><td>str</td><td>str</td><td>str</td><td>str</td><td>str</td><td>f64</td></tr></thead><tbody><tr><td>0</td><td>&quot;Apple&quot;</td><td>&quot;Ultrabook&quot;</td><td>13.3</td><td>&quot;IPS&nbsp;Panel&nbsp;Retina&nbsp;Display&nbsp;2560x…</td><td>&quot;Intel&nbsp;Core&nbsp;i5&nbsp;2.3GHz&quot;</td><td>&quot;8GB&quot;</td><td>&quot;128GB&nbsp;SSD&quot;</td><td>&quot;Intel&nbsp;Iris&nbsp;Plus&nbsp;Graphics&nbsp;640&quot;</td><td>&quot;macOS&quot;</td><td>&quot;1.37kg&quot;</td><td>71378.6832</td></tr><tr><td>1</td><td>&quot;Apple&quot;</td><td>&quot;Ultrabook&quot;</td><td>13.3</td><td>&quot;1440x900&quot;</td><td>&quot;Intel&nbsp;Core&nbsp;i5&nbsp;1.8GHz&quot;</td><td>&quot;8GB&quot;</td><td>&quot;128GB&nbsp;Flash&nbsp;Storage&quot;</td><td>&quot;Intel&nbsp;HD&nbsp;Graphics&nbsp;6000&quot;</td><td>&quot;macOS&quot;</td><td>&quot;1.34kg&quot;</td><td>47895.5232</td></tr><tr><td>2</td><td>&quot;HP&quot;</td><td>&quot;Notebook&quot;</td><td>15.6</td><td>&quot;Full&nbsp;HD&nbsp;1920x1080&quot;</td><td>&quot;Intel&nbsp;Core&nbsp;i5&nbsp;7200U&nbsp;2.5GHz&quot;</td><td>&quot;8GB&quot;</td><td>&quot;256GB&nbsp;SSD&quot;</td><td>&quot;Intel&nbsp;HD&nbsp;Graphics&nbsp;620&quot;</td><td>&quot;No&nbsp;OS&quot;</td><td>&quot;1.86kg&quot;</td><td>30636.0</td></tr><tr><td>3</td><td>&quot;Apple&quot;</td><td>&quot;Ultrabook&quot;</td><td>15.4</td><td>&quot;IPS&nbsp;Panel&nbsp;Retina&nbsp;Display&nbsp;2880x…</td><td>&quot;Intel&nbsp;Core&nbsp;i7&nbsp;2.7GHz&quot;</td><td>&quot;16GB&quot;</td><td>&quot;512GB&nbsp;SSD&quot;</td><td>&quot;AMD&nbsp;Radeon&nbsp;Pro&nbsp;455&quot;</td><td>&quot;macOS&quot;</td><td>&quot;1.83kg&quot;</td><td>135195.336</td></tr><tr><td>4</td><td>&quot;Apple&quot;</td><td>&quot;Ultrabook&quot;</td><td>13.3</td><td>&quot;IPS&nbsp;Panel&nbsp;Retina&nbsp;Display&nbsp;2560x…</td><td>&quot;Intel&nbsp;Core&nbsp;i5&nbsp;3.1GHz&quot;</td><td>&quot;8GB&quot;</td><td>&quot;256GB&nbsp;SSD&quot;</td><td>&quot;Intel&nbsp;Iris&nbsp;Plus&nbsp;Graphics&nbsp;650&quot;</td><td>&quot;macOS&quot;</td><td>&quot;1.37kg&quot;</td><td>96095.808</td></tr><tr><td>&hellip;</td><td>&hellip;</td><td>&hellip;</td><td>&hellip;</td><td>&hellip;</td><td>&hellip;</td><td>&hellip;</td><td>&hellip;</td><td>&hellip;</td><td>&hellip;</td><td>&hellip;</td><td>&hellip;</td></tr><tr><td>1298</td><td>&quot;Lenovo&quot;</td><td>&quot;2&nbsp;in&nbsp;1&nbsp;Convertible&quot;</td><td>14.0</td><td>&quot;IPS&nbsp;Panel&nbsp;Full&nbsp;HD&nbsp;/&nbsp;Touchscree…</td><td>&quot;Intel&nbsp;Core&nbsp;i7&nbsp;6500U&nbsp;2.5GHz&quot;</td><td>&quot;4GB&quot;</td><td>&quot;128GB&nbsp;SSD&quot;</td><td>&quot;Intel&nbsp;HD&nbsp;Graphics&nbsp;520&quot;</td><td>&quot;Windows&nbsp;10&quot;</td><td>&quot;1.8kg&quot;</td><td>33992.64</td></tr><tr><td>1299</td><td>&quot;Lenovo&quot;</td><td>&quot;2&nbsp;in&nbsp;1&nbsp;Convertible&quot;</td><td>13.3</td><td>&quot;IPS&nbsp;Panel&nbsp;Quad&nbsp;HD+&nbsp;/&nbsp;Touchscre…</td><td>&quot;Intel&nbsp;Core&nbsp;i7&nbsp;6500U&nbsp;2.5GHz&quot;</td><td>&quot;16GB&quot;</td><td>&quot;512GB&nbsp;SSD&quot;</td><td>&quot;Intel&nbsp;HD&nbsp;Graphics&nbsp;520&quot;</td><td>&quot;Windows&nbsp;10&quot;</td><td>&quot;1.3kg&quot;</td><td>79866.72</td></tr><tr><td>1300</td><td>&quot;Lenovo&quot;</td><td>&quot;Notebook&quot;</td><td>14.0</td><td>&quot;1366x768&quot;</td><td>&quot;Intel&nbsp;Celeron&nbsp;Dual&nbsp;Core&nbsp;N3050&nbsp;…</td><td>&quot;2GB&quot;</td><td>&quot;64GB&nbsp;Flash&nbsp;Storage&quot;</td><td>&quot;Intel&nbsp;HD&nbsp;Graphics&quot;</td><td>&quot;Windows&nbsp;10&quot;</td><td>&quot;1.5kg&quot;</td><td>12201.12</td></tr><tr><td>1301</td><td>&quot;HP&quot;</td><td>&quot;Notebook&quot;</td><td>15.6</td><td>&quot;1366x768&quot;</td><td>&quot;Intel&nbsp;Core&nbsp;i7&nbsp;6500U&nbsp;2.5GHz&quot;</td><td>&quot;6GB&quot;</td><td>&quot;1TB&nbsp;HDD&quot;</td><td>&quot;AMD&nbsp;Radeon&nbsp;R5&nbsp;M330&quot;</td><td>&quot;Windows&nbsp;10&quot;</td><td>&quot;2.19kg&quot;</td><td>40705.92</td></tr><tr><td>1302</td><td>&quot;Asus&quot;</td><td>&quot;Notebook&quot;</td><td>15.6</td><td>&quot;1366x768&quot;</td><td>&quot;Intel&nbsp;Celeron&nbsp;Dual&nbsp;Core&nbsp;N3050&nbsp;…</td><td>&quot;4GB&quot;</td><td>&quot;500GB&nbsp;HDD&quot;</td><td>&quot;Intel&nbsp;HD&nbsp;Graphics&quot;</td><td>&quot;Windows&nbsp;10&quot;</td><td>&quot;2.2kg&quot;</td><td>19660.32</td></tr></tbody></table></div>"
      ],
      "text/plain": [
       "shape: (1_303, 12)\n",
       "┌──────────┬─────────┬──────────────┬────────┬───┬──────────────┬────────────┬────────┬────────────┐\n",
       "│ Order_ID ┆ Company ┆ Type_Name    ┆ Inches ┆ … ┆ Gpu          ┆ Op_Sys     ┆ Weight ┆ Price      │\n",
       "│ ---      ┆ ---     ┆ ---          ┆ ---    ┆   ┆ ---          ┆ ---        ┆ ---    ┆ ---        │\n",
       "│ i64      ┆ str     ┆ str          ┆ f64    ┆   ┆ str          ┆ str        ┆ str    ┆ f64        │\n",
       "╞══════════╪═════════╪══════════════╪════════╪═══╪══════════════╪════════════╪════════╪════════════╡\n",
       "│ 0        ┆ Apple   ┆ Ultrabook    ┆ 13.3   ┆ … ┆ Intel Iris   ┆ macOS      ┆ 1.37kg ┆ 71378.6832 │\n",
       "│          ┆         ┆              ┆        ┆   ┆ Plus         ┆            ┆        ┆            │\n",
       "│          ┆         ┆              ┆        ┆   ┆ Graphics 640 ┆            ┆        ┆            │\n",
       "│ 1        ┆ Apple   ┆ Ultrabook    ┆ 13.3   ┆ … ┆ Intel HD     ┆ macOS      ┆ 1.34kg ┆ 47895.5232 │\n",
       "│          ┆         ┆              ┆        ┆   ┆ Graphics     ┆            ┆        ┆            │\n",
       "│          ┆         ┆              ┆        ┆   ┆ 6000         ┆            ┆        ┆            │\n",
       "│ 2        ┆ HP      ┆ Notebook     ┆ 15.6   ┆ … ┆ Intel HD     ┆ No OS      ┆ 1.86kg ┆ 30636.0    │\n",
       "│          ┆         ┆              ┆        ┆   ┆ Graphics 620 ┆            ┆        ┆            │\n",
       "│ 3        ┆ Apple   ┆ Ultrabook    ┆ 15.4   ┆ … ┆ AMD Radeon   ┆ macOS      ┆ 1.83kg ┆ 135195.336 │\n",
       "│          ┆         ┆              ┆        ┆   ┆ Pro 455      ┆            ┆        ┆            │\n",
       "│ 4        ┆ Apple   ┆ Ultrabook    ┆ 13.3   ┆ … ┆ Intel Iris   ┆ macOS      ┆ 1.37kg ┆ 96095.808  │\n",
       "│          ┆         ┆              ┆        ┆   ┆ Plus         ┆            ┆        ┆            │\n",
       "│          ┆         ┆              ┆        ┆   ┆ Graphics 650 ┆            ┆        ┆            │\n",
       "│ …        ┆ …       ┆ …            ┆ …      ┆ … ┆ …            ┆ …          ┆ …      ┆ …          │\n",
       "│ 1298     ┆ Lenovo  ┆ 2 in 1       ┆ 14.0   ┆ … ┆ Intel HD     ┆ Windows 10 ┆ 1.8kg  ┆ 33992.64   │\n",
       "│          ┆         ┆ Convertible  ┆        ┆   ┆ Graphics 520 ┆            ┆        ┆            │\n",
       "│ 1299     ┆ Lenovo  ┆ 2 in 1       ┆ 13.3   ┆ … ┆ Intel HD     ┆ Windows 10 ┆ 1.3kg  ┆ 79866.72   │\n",
       "│          ┆         ┆ Convertible  ┆        ┆   ┆ Graphics 520 ┆            ┆        ┆            │\n",
       "│ 1300     ┆ Lenovo  ┆ Notebook     ┆ 14.0   ┆ … ┆ Intel HD     ┆ Windows 10 ┆ 1.5kg  ┆ 12201.12   │\n",
       "│          ┆         ┆              ┆        ┆   ┆ Graphics     ┆            ┆        ┆            │\n",
       "│ 1301     ┆ HP      ┆ Notebook     ┆ 15.6   ┆ … ┆ AMD Radeon   ┆ Windows 10 ┆ 2.19kg ┆ 40705.92   │\n",
       "│          ┆         ┆              ┆        ┆   ┆ R5 M330      ┆            ┆        ┆            │\n",
       "│ 1302     ┆ Asus    ┆ Notebook     ┆ 15.6   ┆ … ┆ Intel HD     ┆ Windows 10 ┆ 2.2kg  ┆ 19660.32   │\n",
       "│          ┆         ┆              ┆        ┆   ┆ Graphics     ┆            ┆        ┆            │\n",
       "└──────────┴─────────┴──────────────┴────────┴───┴──────────────┴────────────┴────────┴────────────┘"
      ]
     },
     "execution_count": 17,
     "metadata": {},
     "output_type": "execute_result"
    }
   ],
   "source": [
    "laptop_data"
   ]
  }
 ],
 "metadata": {
  "kernelspec": {
   "display_name": "Python 3",
   "language": "python",
   "name": "python3"
  },
  "language_info": {
   "codemirror_mode": {
    "name": "ipython",
    "version": 3
   },
   "file_extension": ".py",
   "mimetype": "text/x-python",
   "name": "python",
   "nbconvert_exporter": "python",
   "pygments_lexer": "ipython3",
   "version": "3.12.0"
  }
 },
 "nbformat": 4,
 "nbformat_minor": 2
}
